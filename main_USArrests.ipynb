{
 "cells": [
  {
   "cell_type": "markdown",
   "source": [
    "In this Jupyter Notebook there is the application of PCA over \n",
    "the \"USA Arrests\" dataset.\n",
    "The canonical representation of a dataset is the following.<br>\n",
    "It is a datamatrix $X \\in R^{n \\times p}$ where: <br>\n",
    "$\\hspace{1cm}\\bullet \\hspace{0.5cm}n$ is the number of samples<br>\n",
    "$\\hspace{1cm}\\bullet \\hspace{0.5cm}p$ is the number of the features\n",
    "\n",
    "On the rows there are samples while on the columns there are features:<br>\n",
    "$\\hspace{1cm}\\bullet \\hspace{0.5cm} x_{i} \\in R^{p} \\rightarrow$ each sample is a vector in a $p$-dimensional space <br>\n",
    "$\\hspace{1cm}\\bullet \\hspace{0.5cm} p_{j} \\in R^{n} \\rightarrow$ each feature is a vector in a $n$-dimensional space <br>"
   ],
   "metadata": {
    "collapsed": false
   }
  },
  {
   "cell_type": "code",
   "execution_count": 1,
   "outputs": [
    {
     "name": "stdout",
     "text": [
      "Pandas Version: 1.0.3\n",
      "Numpy Version: 1.18.4\n",
      "Matplotlib Version: 3.2.1\n",
      "Scikit-learn Version: 0.23.1\n",
      "Seaborn Version: 0.10.1\n"
     ],
     "output_type": "stream"
    }
   ],
   "source": [
    "import funcs\n",
    "import pandas as pd\n",
    "import matplotlib\n",
    "import matplotlib.pyplot as plt\n",
    "import numpy as np\n",
    "import seaborn as sns\n",
    "import sklearn\n",
    "from sklearn import datasets\n",
    "print(\"Pandas Version: {}\".format(pd.__version__))\n",
    "print(\"Numpy Version: {}\".format(np.__version__))\n",
    "print(\"Matplotlib Version: {}\".format(matplotlib.__version__))\n",
    "print(\"Scikit-learn Version: {}\".format(sklearn.__version__))\n",
    "print(\"Seaborn Version: {}\".format(sns.__version__))"
   ],
   "metadata": {
    "collapsed": false,
    "pycharm": {
     "name": "#%%\n",
     "is_executing": false
    }
   }
  },
  {
   "cell_type": "markdown",
   "source": [
    "Now it will be loaded the dataset about arrests in USA"
   ],
   "metadata": {
    "collapsed": false
   }
  },
  {
   "cell_type": "code",
   "execution_count": 2,
   "outputs": [
    {
     "name": "stdout",
     "text": [
      "Shape of Dataset: (50, 5)\n",
      "\t* Number of samples:\t50\n",
      "\t* Number of features:\t5\n"
     ],
     "output_type": "stream"
    }
   ],
   "source": [
    "dataframe = pd.read_csv(\"datasets/USArrests.csv\")\n",
    "n = np.shape(dataframe)[0]\n",
    "p = np.shape(dataframe)[1]\n",
    "print(\"Shape of Dataset: {}\\n\\t* Number of samples:\\t{}\\n\\t* Number of features:\\t{}\"\n",
    "      .format(np.shape(dataframe), n, p))"
   ],
   "metadata": {
    "collapsed": false,
    "pycharm": {
     "name": "#%%\n",
     "is_executing": false
    }
   }
  },
  {
   "cell_type": "code",
   "execution_count": 3,
   "outputs": [
    {
     "name": "stdout",
     "text": [
      "        State  Murder  Assault  UrbanPop  Rape\n",
      "0     Alabama    13.2      236        58  21.2\n",
      "1      Alaska    10.0      263        48  44.5\n",
      "2     Arizona     8.1      294        80  31.0\n",
      "3    Arkansas     8.8      190        50  19.5\n",
      "4  California     9.0      276        91  40.6\n"
     ],
     "output_type": "stream"
    }
   ],
   "source": [
    "print(dataframe.head())"
   ],
   "metadata": {
    "collapsed": false,
    "pycharm": {
     "name": "#%%\n",
     "is_executing": false
    }
   }
  },
  {
   "cell_type": "markdown",
   "source": [
    "This is a first inspection about<br>\n",
    "$\\hspace{1cm}\\bullet \\hspace{0.5cm}$ Type of columns<br>\n",
    "$\\hspace{1cm}\\bullet \\hspace{0.5cm}$ Missing values"
   ],
   "metadata": {
    "collapsed": false
   }
  },
  {
   "cell_type": "code",
   "execution_count": 4,
   "outputs": [
    {
     "name": "stdout",
     "text": [
      "  Column Name     Type  Null Values\n",
      "0       State   object            0\n",
      "1      Murder  float64            0\n",
      "2     Assault    int64            0\n",
      "3    UrbanPop    int64            0\n",
      "4        Rape  float64            0\n"
     ],
     "output_type": "stream"
    }
   ],
   "source": [
    "print(funcs.InfoColumns(dataframe))"
   ],
   "metadata": {
    "collapsed": false,
    "pycharm": {
     "name": "#%%\n",
     "is_executing": false
    }
   }
  },
  {
   "cell_type": "markdown",
   "source": [
    "These are some statistics useful to steer the whole analysis:<br>\n",
    "$\\hspace{1cm}\\bullet \\hspace{0.5cm}$ Descriptive statistics <br>\n",
    "$\\hspace{1cm}\\bullet \\hspace{0.5cm}$ Skewness <br>\n",
    "$\\hspace{1cm}\\bullet \\hspace{0.5cm}$ Kurtosis <br>\n"
   ],
   "metadata": {
    "collapsed": false,
    "pycharm": {
     "name": "#%% md\n"
    }
   }
  },
  {
   "cell_type": "code",
   "execution_count": 5,
   "outputs": [
    {
     "name": "stdout",
     "text": [
      "       State    Murder     Assault   UrbanPop       Rape\n",
      "count     50  50.00000   50.000000  50.000000  50.000000\n",
      "unique    50       NaN         NaN        NaN        NaN\n",
      "top     Ohio       NaN         NaN        NaN        NaN\n",
      "freq       1       NaN         NaN        NaN        NaN\n",
      "mean     NaN   7.78800  170.760000  65.540000  21.232000\n",
      "std      NaN   4.35551   83.337661  14.474763   9.366385\n",
      "min      NaN   0.80000   45.000000  32.000000   7.300000\n",
      "25%      NaN   4.07500  109.000000  54.500000  15.075000\n",
      "50%      NaN   7.25000  159.000000  66.000000  20.100000\n",
      "75%      NaN  11.25000  249.000000  77.750000  26.175000\n",
      "max      NaN  17.40000  337.000000  91.000000  46.000000\n"
     ],
     "output_type": "stream"
    }
   ],
   "source": [
    "print(dataframe.describe(include='all'))"
   ],
   "metadata": {
    "collapsed": false,
    "pycharm": {
     "name": "#%%\n",
     "is_executing": false
    }
   }
  },
  {
   "cell_type": "code",
   "execution_count": 6,
   "outputs": [
    {
     "name": "stdout",
     "text": [
      "Murder      0.393956\n",
      "Assault     0.234410\n",
      "UrbanPop   -0.226009\n",
      "Rape        0.801200\n",
      "dtype: float64\n"
     ],
     "output_type": "stream"
    }
   ],
   "source": [
    "print(dataframe.skew(axis=0))"
   ],
   "metadata": {
    "collapsed": false,
    "pycharm": {
     "name": "#%%\n",
     "is_executing": false
    }
   }
  },
  {
   "cell_type": "code",
   "execution_count": 7,
   "outputs": [
    {
     "name": "stdout",
     "text": [
      "Murder     -0.827488\n",
      "Assault    -1.053848\n",
      "UrbanPop   -0.738360\n",
      "Rape        0.353964\n",
      "dtype: float64\n"
     ],
     "output_type": "stream"
    }
   ],
   "source": [
    "print(dataframe.kurtosis(axis=0))"
   ],
   "metadata": {
    "collapsed": false,
    "pycharm": {
     "name": "#%%\n",
     "is_executing": false
    }
   }
  },
  {
   "cell_type": "code",
   "execution_count": 8,
   "outputs": [
    {
     "data": {
      "text/plain": "<Figure size 720x432 with 1 Axes>",
      "image/png": "[encoded data removed]"
     },
     "metadata": {},
     "output_type": "display_data"
    }
   ],
   "source": [
    "plt.figure(figsize=(10,6), facecolor='white')\n",
    "plt.title(\"Whiskers Plot - USA Arrests (1973\")\n",
    "plt.xlabel(\"Features\")\n",
    "dataframe.boxplot(figsize=(10,6))\n",
    "plt.savefig(\"images/boxplot_USA.png\")"
   ],
   "metadata": {
    "collapsed": false,
    "pycharm": {
     "name": "#%%\n",
     "is_executing": false
    }
   }
  },
  {
   "cell_type": "code",
   "execution_count": 9,
   "outputs": [
    {
     "data": {
      "text/plain": "<Figure size 720x720 with 20 Axes>",
      "image/png": "[encoded data removed]"
     },
     "metadata": {},
     "output_type": "display_data"
    }
   ],
   "source": [
    "sns.set(style=\"ticks\", color_codes=True)\n",
    "scatter = sns.pairplot(data=dataframe, markers='o')\n",
    "scatter.savefig(\"images/scatter_USA.png\")"
   ],
   "metadata": {
    "collapsed": false,
    "pycharm": {
     "name": "#%%\n",
     "is_executing": false
    }
   }
  },
  {
   "cell_type": "markdown",
   "source": [
    "Now it will computed the centered version of the dataset.<br>\n",
    "***\n",
    "What does it means?<br>\n",
    "***\n",
    "In this way, it's performed a shift from the original canonical axis into the center of the distribution of the \n",
    "dataset.<br>\n",
    "It's computed an approximation which allows to discuss about the linear relationships (if exist) among features"
   ],
   "metadata": {
    "collapsed": false
   }
  },
  {
   "cell_type": "markdown",
   "source": [
    "In this specific case it has been dropped the column about states"
   ],
   "metadata": {
    "collapsed": false,
    "pycharm": {
     "name": "#%% md\n"
    }
   }
  },
  {
   "cell_type": "code",
   "execution_count": 10,
   "outputs": [],
   "source": [
    "X = dataframe.drop(['State'], axis=1).values"
   ],
   "metadata": {
    "collapsed": false,
    "pycharm": {
     "name": "#%%\n",
     "is_executing": false
    }
   }
  },
  {
   "cell_type": "code",
   "execution_count": 11,
   "outputs": [],
   "source": [
    "Xc = X - np.mean(X, axis=0)"
   ],
   "metadata": {
    "collapsed": false,
    "pycharm": {
     "name": "#%%\n",
     "is_executing": false
    }
   }
  },
  {
   "cell_type": "markdown",
   "source": [
    "Now there are two different strategies: <br>\n",
    "***\n",
    "PCA over the Covariance Matrix $C_{X_{C}}$<br> \n",
    "if the variances respect the order of importance that we want to attribute to the variables (it's defined a hierarchy \n",
    "based on relevance)<br>\n",
    "PCA over the Correlation Matrix $R_{X_{C}}$ <br>\n",
    "if we want to attribute the same importance to all the variables<br>"
   ],
   "metadata": {
    "collapsed": false,
    "pycharm": {
     "name": "#%% md\n"
    }
   }
  },
  {
   "cell_type": "markdown",
   "source": [
    "***\n",
    "HOW CAN WE CHOOSE WHAT MATRIX TO USE?\n",
    "***\n",
    "It must be computed some statistical measures over the original dataset (this is a multivariate case, since $p>1$) and \n",
    "check what is the variance of each feature.<br>\n",
    "In particular, if there is an high difference among variances, due to different measurement units, then it is \n",
    "recommended to compute the Correlation Matrix.\n",
    "***\n",
    "NB:: If the centered matrix $X_{C}$ is standardized, then $\\implies (C_{X_{C}} = R_{X_{C}})$"
   ],
   "metadata": {
    "collapsed": false,
    "pycharm": {
     "name": "#%% md\n"
    }
   }
  },
  {
   "cell_type": "markdown",
   "source": [
    "Now it will be computed both the Covariance Matrix $C_{X_{C}}$ and the Correlation Matrix $R_{X_{C}}$ on the \n",
    "transpose of the centered dataset $C_{{(X)}^{T}}$, because the goal of this analysis is find, if exist, \n",
    "some relations among features and not samples.\n",
    "***\n",
    "(NB) Computing the Covariance matrix on the centered dataset is equivalent to compute it on the original ones"
   ],
   "metadata": {
    "collapsed": false
   }
  },
  {
   "cell_type": "code",
   "execution_count": 12,
   "outputs": [
    {
     "name": "stdout",
     "text": [
      "This is the Covariance Matrix C of the Transpose Centered Dataset:\n",
      "\n",
      "[[1.89704653e+01 2.91062367e+02 4.38620408e+00 2.29914122e+01]\n",
      " [2.91062367e+02 6.94516571e+03 3.12275102e+02 5.19269061e+02]\n",
      " [4.38620408e+00 3.12275102e+02 2.09518776e+02 5.57680816e+01]\n",
      " [2.29914122e+01 5.19269061e+02 5.57680816e+01 8.77291592e+01]]\n"
     ],
     "output_type": "stream"
    }
   ],
   "source": [
    "np.set_printoptions(suppress=False, linewidth=130)\n",
    "Cov_Xc = np.cov(Xc.T)\n",
    "print(\"This is the Covariance Matrix C of the Transpose Centered Dataset:\\n\\n{}\"\n",
    "      .format(np.array_str(Cov_Xc)))"
   ],
   "metadata": {
    "collapsed": false,
    "pycharm": {
     "name": "#%%\n",
     "is_executing": false
    }
   }
  },
  {
   "cell_type": "code",
   "execution_count": 13,
   "outputs": [
    {
     "name": "stdout",
     "text": [
      "This is the Correlation Matrix R of the Transpose Centered Dataset:\n",
      "\n",
      "[[1.         0.80187331 0.06957262 0.56357883]\n",
      " [0.80187331 1.         0.2588717  0.66524123]\n",
      " [0.06957262 0.2588717  1.         0.41134124]\n",
      " [0.56357883 0.66524123 0.41134124 1.        ]]\n"
     ],
     "output_type": "stream"
    }
   ],
   "source": [
    "Corr_Xc = np.corrcoef(Xc.T)\n",
    "print(\"This is the Correlation Matrix R of the Transpose Centered Dataset:\\n\\n{}\"\n",
    "      .format(np.array_str(Corr_Xc)))"
   ],
   "metadata": {
    "collapsed": false,
    "pycharm": {
     "name": "#%%\n",
     "is_executing": false
    }
   }
  },
  {
   "cell_type": "markdown",
   "source": [
    "Then it will be computed the eigenvalues and eigenvectors of both matrices."
   ],
   "metadata": {
    "collapsed": false,
    "pycharm": {
     "name": "#%% md\n"
    }
   }
  },
  {
   "cell_type": "code",
   "execution_count": 14,
   "outputs": [
    {
     "name": "stdout",
     "text": [
      "These are the eigenvalues of Covariance Matrix C:\n",
      "[7.01111485e+03 2.01992366e+02 6.16424618e+00 4.21126508e+01]\n",
      "\n",
      "These are the eigenvectors of the Covariance Matrix C:\n",
      "[[ 0.04170432  0.04482166 -0.99492173  0.07989066]\n",
      " [ 0.99522128  0.05876003  0.0389383  -0.06756974]\n",
      " [ 0.04633575 -0.97685748 -0.05816914 -0.20054629]\n",
      " [ 0.0751555  -0.20071807  0.07232502  0.97408059]]\n"
     ],
     "output_type": "stream"
    }
   ],
   "source": [
    "eigenvalues_covariance, eigenvectors_covariance = np.linalg.eig(Cov_Xc)\n",
    "print(\"These are the eigenvalues of Covariance Matrix C:\\n{}\\n\".format(np.array_str(eigenvalues_covariance)))\n",
    "print(\"These are the eigenvectors of the Covariance Matrix C:\\n{}\".format(np.array_str(eigenvectors_covariance)))"
   ],
   "metadata": {
    "collapsed": false,
    "pycharm": {
     "name": "#%%\n",
     "is_executing": false
    }
   }
  },
  {
   "cell_type": "code",
   "execution_count": 15,
   "outputs": [
    {
     "name": "stdout",
     "text": [
      "These are the eigenvalues of Correlation Matrix R:\n",
      "[2.48024158 0.98976515 0.17343009 0.35656318]\n",
      "\n",
      "These are the eigenvectors of the Correlation Matrix R:\n",
      "[[ 0.53589947  0.41818087  0.6492278  -0.34123273]\n",
      " [ 0.58318363  0.1879856  -0.74340748 -0.26814843]\n",
      " [ 0.27819087 -0.87280619  0.13387773 -0.37801579]\n",
      " [ 0.54343209 -0.16731864  0.08902432  0.81777791]]\n"
     ],
     "output_type": "stream"
    }
   ],
   "source": [
    "eigenvalues_correlation, eigenvectors_correlation = np.linalg.eig(Corr_Xc)\n",
    "print(\"These are the eigenvalues of Correlation Matrix R:\\n{}\\n\".format(np.array_str(eigenvalues_correlation)))\n",
    "print(\"These are the eigenvectors of the Correlation Matrix R:\\n{}\".format(np.array_str(eigenvectors_correlation)))"
   ],
   "metadata": {
    "collapsed": false,
    "pycharm": {
     "name": "#%%\n",
     "is_executing": false
    }
   }
  },
  {
   "cell_type": "markdown",
   "source": [
    "The matrix of eigenvectors (for C and R) represent the rotation matrix $A_{p}$ such that:<br>\n",
    "$Y = X \\cdot A_{p}$ where \n",
    "\\begin{cases}\n",
    "\\bullet \\hspace{0.5cm} Y \\in R^{n \\times p} \\rightarrow \\text{ this is the matrix of scores (PC's)}\\\\\n",
    "\\bullet \\hspace{0.5cm} X \\in R^{n \\times p}  \\rightarrow \\text{ this is the original matrix}\\\\\n",
    "\\bullet \\hspace{0.5cm} A_{p} \\in R^{p \\times p}  \\rightarrow \\text{this is the matrix of loadings}\n",
    "\\end{cases} <br>\n",
    "The matrix $A_{p}$ rotates original data into the direction of maximum variance of the dataset and is useful to:<br>\n",
    "$\\hspace{1cm} 1. \\hspace{0.5cm}$ Perform a feature selection of the original variables<br>\n",
    "$\\hspace{1cm} 2. \\hspace{0.5cm}$ Gives Interpretation of the PC's <br>\n",
    "$\\hspace{2.3cm} (\\bullet) \\hspace{0.5cm}$in terms of magnitude of absolute values of axis<br>\n",
    "$\\hspace{2.3cm} (\\bullet) \\hspace{0.5cm}$using the correlation coefficients among PC's and original features $X_{i}$<br>"
   ],
   "metadata": {
    "collapsed": false,
    "pycharm": {
     "name": "#%% md\n"
    }
   }
  },
  {
   "cell_type": "markdown",
   "source": [
    "### Let's consider the matrix $A_{p}$ related to the Covariance Matrix $C$\n",
    "In the column 1, the max absolute value is situated in position 2; this tells us that the second feature will be more \n",
    "important in the construction of $Y_1$.<br><br>\n",
    "In the column 2, the max absolute value is situated in position 3; this tells us that the third feature will be more \n",
    "important in the construction of $Y_2$.<br><br>\n",
    "In the column 3, the max absolute value is situated in position 1; this tells us that the first feature will be more \n",
    "important in the construction of $Y_3$.<br><br>\n",
    "In the column 4, the max absolute value is situated in position 4; this tells us that the fourth feature will be more \n",
    "important in the construction of $Y_4$.<hr>\n",
    "\n",
    "### Let's consider the matrix $A_{p}$ related to the Correlation Matrix $R$<br><br>\n",
    "In the column 1, the max absolute value is situated in position 2; this tells us that the second feature will be more \n",
    "important in the construction of $Y_1$.<br><br>\n",
    "In the column 2, the max absolute value is situated in position 3; this tells us that the third feature will be more \n",
    "important in the construction of $Y_2$.<br><br>\n",
    "In the column 3, the max absolute value is situated in position 2; this tells us that the second feature will be more \n",
    "important also for the construction of $Y_3$.<br><br>\n",
    "In the column 4, the max absolute value is situated in position 4; this tells us that the fourth feature will be more \n",
    "important in the construction of $Y_4$.<br>"
   ],
   "metadata": {
    "collapsed": false,
    "pycharm": {
     "name": "#%% md\n"
    }
   }
  },
  {
   "cell_type": "markdown",
   "source": [
    "Now it can be computed the matrix $Y$ (hence, the principal components), and it can be defined also a semantic for \n",
    "the new features (PC's) through by the study of correlations among original features $X_{i}$ and \n",
    "principal components $Y_{j}$."
   ],
   "metadata": {
    "collapsed": false,
    "pycharm": {
     "name": "#%% md\n"
    }
   }
  },
  {
   "cell_type": "code",
   "execution_count": 16,
   "outputs": [
    {
     "name": "stdout",
     "text": [
      "This is the dimension of the Y matrix \t (50, 4)\n",
      "\t(*) using the loadings of the covariance matrix C\n",
      "\t(*) It must be equal to the dimension of the original dataset\n",
      "\n"
     ],
     "output_type": "stream"
    }
   ],
   "source": [
    "YC = Xc.dot(eigenvectors_covariance)\n",
    "print(\"This is the dimension of the Y matrix \\t {}\\n\\t(*) using the loadings of the covariance matrix C\\n\"\n",
    "      \"\\t(*) It must be equal to the dimension of the original dataset\\n\".format(np.shape(YC)))"
   ],
   "metadata": {
    "collapsed": false,
    "pycharm": {
     "name": "#%%\n",
     "is_executing": false
    }
   }
  },
  {
   "cell_type": "code",
   "execution_count": 17,
   "outputs": [
    {
     "name": "stdout",
     "text": [
      "This is the dimension of the Y matrix \t (50, 4)\n",
      "\t(*) using the loadings of the correlation matrix R\n",
      "\t(*) It must be equal to the dimension of the original dataset\n"
     ],
     "output_type": "stream"
    }
   ],
   "source": [
    "YR = Xc.dot(eigenvectors_correlation)\n",
    "print(\"This is the dimension of the Y matrix \\t {}\\n\\t(*) using the loadings of the correlation matrix R\\n\"\n",
    "      \"\\t(*) It must be equal to the dimension of the original dataset\".format(np.shape(YR)))"
   ],
   "metadata": {
    "collapsed": false,
    "pycharm": {
     "name": "#%% \n",
     "is_executing": false
    }
   }
  },
  {
   "cell_type": "markdown",
   "source": [
    "Now it's shown the Scree-Plot, useful to choose what is the number of components $(k)$\n",
    "that is better to retained in order to account for most of the variation in the dataset. <br>\n",
    "The number $k$ has been computed using the Cumulative Percentage of Total Variation.<br> \n",
    "$\\hspace{1cm}(\\bullet)\\hspace{0.3cm}C \\rightarrow t_{k} = 100 \\cdot \\frac{\\sum_{i=1}^{k}\\lambda_{i}}{\\sum_{i=1}^{p}\\lambda_{i}} = \n",
    "100 \\cdot \\frac{\\sum_{i=1}^{k}\\lambda_{i}}{trace(C_{X})}$<br><br>\n",
    "\n",
    "$\\hspace{1cm}(\\bullet)\\hspace{0.3cm}R \\rightarrow t_{k} = 100 \\cdot \\frac{\\sum_{i=1}^{k}\\lambda_{i}}{p}$<br><br>"
   ],
   "metadata": {
    "collapsed": false,
    "pycharm": {
     "name": "#%% md\n"
    }
   }
  },
  {
   "cell_type": "code",
   "execution_count": 18,
   "outputs": [
    {
     "name": "stdout",
     "text": [
      "This is the explained variance of each feature (covariance):\n",
      "\t[9.66e+01 2.78e+00 5.80e-01 8.49e-02]\n",
      "This is the cumulative variance (covariance):\n",
      "\t[ 96.55  99.34  99.92 100.  ]\n"
     ],
     "output_type": "stream"
    },
    {
     "data": {
      "text/plain": "<Figure size 720x432 with 1 Axes>",
      "image/png": "[encoded data removed]"
     },
     "metadata": {},
     "output_type": "display_data"
    }
   ],
   "source": [
    "total_variation_covariance = np.sum(eigenvalues_covariance)\n",
    "explained_variance_covariance = np.asarray(\n",
    "    [100*(i/total_variation_covariance) for i in sorted(eigenvalues_covariance, reverse=True)])\n",
    "print(\"This is the explained variance of each feature (covariance):\\n\\t{}\"\n",
    "      .format(np.array_str(explained_variance_covariance, precision=2)))\n",
    "cumulative_covariance = np.cumsum(explained_variance_covariance)\n",
    "print(\"This is the cumulative variance (covariance):\\n\\t{}\"\n",
    "      .format(np.array_str(cumulative_covariance, precision=2)))\n",
    "\n",
    "fig1 = plt.figure(1, figsize=(10,6))\n",
    "plt.title(\"Scree plots of Covariance Matrix\")\n",
    "plt.bar(x=np.arange(np.shape(explained_variance_covariance)[0]), \n",
    "        height=explained_variance_covariance, \n",
    "        width=0.4, color=\"green\")\n",
    "plt.plot(np.arange(np.shape(explained_variance_covariance)[0]), \n",
    "         explained_variance_covariance, \n",
    "         linestyle=\"--\", marker=\"o\", markersize=15,\n",
    "         color=\"red\", label=\"explained variance (covariance)\")\n",
    "plt.savefig(\"images/screeplots_covariance_USA.png\")\n",
    "plt.legend()\n",
    "plt.grid()\n",
    "plt.show()"
   ],
   "metadata": {
    "collapsed": false,
    "pycharm": {
     "name": "#%%\n",
     "is_executing": false
    }
   }
  },
  {
   "cell_type": "code",
   "execution_count": 19,
   "outputs": [
    {
     "name": "stdout",
     "text": [
      "This is the explained variance of each feature (correlation):\n",
      "\t[62.01 24.74  8.91  4.34]\n",
      "This is the cumulative variance (correlation):\n",
      "\t[ 62.01  86.75  95.66 100.  ]\n"
     ],
     "output_type": "stream"
    },
    {
     "data": {
      "text/plain": "<Figure size 720x432 with 1 Axes>",
      "image/png": "[encoded data removed]"
     },
     "metadata": {},
     "output_type": "display_data"
    }
   ],
   "source": [
    "total_variation_correlation = np.sum(eigenvalues_correlation)\n",
    "explained_variance_correlation = np.asarray(\n",
    "    [100*(i/total_variation_correlation) for i in sorted(eigenvalues_correlation, reverse=True)])\n",
    "print(\"This is the explained variance of each feature (correlation):\\n\\t{}\"\n",
    "      .format(np.array_str(explained_variance_correlation, precision=2)))\n",
    "cumulative_correlation = np.cumsum(explained_variance_correlation)\n",
    "print(\"This is the cumulative variance (correlation):\\n\\t{}\"\n",
    "      .format(np.array_str(cumulative_correlation, precision=2)))\n",
    "\n",
    "fig2 = plt.figure(2, figsize=(10,6))\n",
    "plt.title(\"Scree plots of Correlation Matrices\")\n",
    "plt.bar(x=np.arange(np.shape(explained_variance_correlation)[0]), \n",
    "        height=explained_variance_correlation, \n",
    "        width=0.4, color=\"green\")\n",
    "plt.plot(np.arange(np.shape(explained_variance_correlation)[0]), \n",
    "         explained_variance_correlation, \n",
    "         linestyle=\"--\", marker=\"o\", markersize=15,\n",
    "         color=\"red\", label=\"explained variance correlation\")\n",
    "plt.savefig(\"images/screeplots_correlation_USA.png\")\n",
    "plt.legend()\n",
    "plt.grid()\n",
    "plt.show()"
   ],
   "metadata": {
    "collapsed": false,
    "pycharm": {
     "name": "#%%\n",
     "is_executing": false
    }
   }
  },
  {
   "cell_type": "code",
   "execution_count": 20,
   "outputs": [],
   "source": [
    "number_k = 2"
   ],
   "metadata": {
    "collapsed": false,
    "pycharm": {
     "name": "#%%\n",
     "is_executing": false
    }
   }
  },
  {
   "cell_type": "markdown",
   "source": [
    "### Correlation circle (Original features and PC's of the covariance matrix C)"
   ],
   "metadata": {
    "collapsed": false,
    "pycharm": {
     "name": "#%% md\n"
    }
   }
  },
  {
   "cell_type": "code",
   "execution_count": 21,
   "outputs": [],
   "source": [
    "CC_Covariance = []\n",
    "for i in range(np.shape(X)[1]):\n",
    "    f = []\n",
    "    for j in range(np.shape(YC)[1]):\n",
    "        c = (np.corrcoef(X[:,i], YC[:,j])[0])[1]\n",
    "        f.append(c)\n",
    "    CC_Covariance.append(f)"
   ],
   "metadata": {
    "collapsed": false,
    "pycharm": {
     "name": "#%%\n",
     "is_executing": false
    }
   }
  },
  {
   "cell_type": "code",
   "execution_count": 22,
   "outputs": [
    {
     "name": "stdout",
     "text": [
      "This is the full Correlation Matrix (based on C):\n",
      "[[ 0.80174378  0.14625691 -0.56713952  0.11903188]\n",
      " [ 0.99993527  0.01002093  0.00116005 -0.00526159]\n",
      " [ 0.26803915 -0.9591515  -0.00997749 -0.0899103 ]\n",
      " [ 0.67186548 -0.30456638  0.01917152  0.6748841 ]]\n"
     ],
     "output_type": "stream"
    }
   ],
   "source": [
    "CorrelationCircle_Covariance = np.asarray(CC_Covariance)\n",
    "print(\"This is the full Correlation Matrix (based on C):\\n{}\"\n",
    "      .format(CorrelationCircle_Covariance))"
   ],
   "metadata": {
    "collapsed": false,
    "pycharm": {
     "name": "#%%\n",
     "is_executing": false
    }
   }
  },
  {
   "cell_type": "code",
   "execution_count": 23,
   "outputs": [
    {
     "name": "stdout",
     "text": [
      "This is the Correlation Matrix with 2 PC's (based on C):\n",
      "[[ 0.80174378  0.14625691]\n",
      " [ 0.99993527  0.01002093]\n",
      " [ 0.26803915 -0.9591515 ]\n",
      " [ 0.67186548 -0.30456638]]\n"
     ],
     "output_type": "stream"
    }
   ],
   "source": [
    "print(\"This is the Correlation Matrix with {} PC's (based on C):\\n{}\"\n",
    "      .format(number_k, CorrelationCircle_Covariance[:,0:number_k]))"
   ],
   "metadata": {
    "collapsed": false,
    "pycharm": {
     "name": "#%%\n",
     "is_executing": false
    }
   }
  },
  {
   "cell_type": "code",
   "execution_count": 24,
   "outputs": [
    {
     "data": {
      "text/plain": "<Figure size 576x576 with 1 Axes>",
      "image/png": "[encoded data removed]"
     },
     "metadata": {},
     "output_type": "display_data"
    }
   ],
   "source": [
    "fig3 = plt.figure(figsize=(8,8))\n",
    "plt.title(\"Correlation Cirle \\nFeatures vs PC's (Covariance matrix C)\")\n",
    "plt.hlines(y=0, xmin=-1, xmax=1, colors='black', linewidth=4, linestyle='solid')\n",
    "plt.vlines(x=0, ymin=-1, ymax=1, colors='black', linewidth=4, linestyle='solid')\n",
    "for i in range(0,np.shape(X)[1]):\n",
    "    plt.scatter(CorrelationCircle_Covariance[i:i+1,0:1], \n",
    "                CorrelationCircle_Covariance[i:i+1,1:2], s=300, label=dataframe.columns[i+1])\n",
    "plt.xlabel(\"PC1\")\n",
    "plt.ylabel(\"PC2\")\n",
    "plt.xlim(-1.1,1.1)\n",
    "plt.ylim(-1.1,1.1)\n",
    "plt.legend(loc='upper center', bbox_to_anchor=(0.5, -0.1), \n",
    "           fancybox=True, ncol=np.shape(X)[1])\n",
    "plt.grid()\n",
    "plt.savefig(\"images/circle_correlation_covariance_USA.png\")\n",
    "plt.tight_layout()\n",
    "plt.show()"
   ],
   "metadata": {
    "collapsed": false,
    "pycharm": {
     "name": "#%%\n",
     "is_executing": false
    }
   }
  },
  {
   "cell_type": "markdown",
   "source": [
    "### Correlation circle (Original features and PC's of the correlation matrix R)"
   ],
   "metadata": {
    "collapsed": false,
    "pycharm": {
     "name": "#%% md\n"
    }
   }
  },
  {
   "cell_type": "code",
   "execution_count": 25,
   "outputs": [],
   "source": [
    "CC_Correlation = []\n",
    "for i in range(np.shape(X)[1]):\n",
    "    f = []\n",
    "    for j in range(np.shape(YR)[1]):\n",
    "        c = (np.corrcoef(X[:,i], YR[:,j])[0])[1]\n",
    "        f.append(c)\n",
    "    CC_Correlation.append(f)\n",
    "    "
   ],
   "metadata": {
    "collapsed": false,
    "pycharm": {
     "name": "#%%\n",
     "is_executing": false
    }
   }
  },
  {
   "cell_type": "code",
   "execution_count": 26,
   "outputs": [],
   "source": [
    "CorrelationCircle_Correlation = np.asarray(CC_Correlation)"
   ],
   "metadata": {
    "collapsed": false,
    "pycharm": {
     "name": "#%%\n",
     "is_executing": false
    }
   }
  },
  {
   "cell_type": "code",
   "execution_count": 27,
   "outputs": [
    {
     "name": "stdout",
     "text": [
      "This is the full Correlation Matrix (based on R):\n",
      "[[ 0.80447685  0.69342268 -0.7880837  -0.74353894]\n",
      " [ 0.99352106  0.70398089 -0.99910691 -0.95455043]\n",
      " [ 0.34137813 -0.4997308  -0.23108325 -0.39458135]\n",
      " [ 0.73097726  0.25736029 -0.64737707 -0.49481763]]\n"
     ],
     "output_type": "stream"
    }
   ],
   "source": [
    "print(\"This is the full Correlation Matrix (based on R):\\n{}\"\n",
    "      .format(CorrelationCircle_Correlation))"
   ],
   "metadata": {
    "collapsed": false,
    "pycharm": {
     "name": "#%%\n",
     "is_executing": false
    }
   }
  },
  {
   "cell_type": "code",
   "execution_count": 28,
   "outputs": [
    {
     "name": "stdout",
     "text": [
      "This is the Correlation Matrix with 2 PC's (based on R):\n",
      "[[ 0.80447685  0.69342268]\n",
      " [ 0.99352106  0.70398089]\n",
      " [ 0.34137813 -0.4997308 ]\n",
      " [ 0.73097726  0.25736029]]\n"
     ],
     "output_type": "stream"
    }
   ],
   "source": [
    "print(\"This is the Correlation Matrix with {} PC's (based on R):\\n{}\"\n",
    "      .format(number_k, CorrelationCircle_Correlation[:,0:number_k]))"
   ],
   "metadata": {
    "collapsed": false,
    "pycharm": {
     "name": "#%%\n",
     "is_executing": false
    }
   }
  },
  {
   "cell_type": "code",
   "execution_count": 29,
   "outputs": [
    {
     "data": {
      "text/plain": "<Figure size 576x576 with 1 Axes>",
      "image/png": "[encoded data removed]"
     },
     "metadata": {},
     "output_type": "display_data"
    }
   ],
   "source": [
    "fig4 = plt.figure(figsize=(8,8))\n",
    "plt.title(\"Correlation Cirle \\nFeatures vs PC's (Correlation matrix R)\")\n",
    "plt.hlines(y=0, xmin=-1, xmax=1, colors='black', linewidth=4, linestyle='solid')\n",
    "plt.vlines(x=0, ymin=-1, ymax=1, colors='black', linewidth=4, linestyle='solid')\n",
    "for i in range(0,np.shape(X)[1]):\n",
    "    plt.scatter(CorrelationCircle_Correlation[i:i+1,0:1], \n",
    "                CorrelationCircle_Correlation[i:i+1,1:2], s=300, label=dataframe.columns[i+1])\n",
    "plt.xlabel(\"PC1\")\n",
    "plt.ylabel(\"PC2\")\n",
    "plt.xlim(-1.1,1.1)\n",
    "plt.ylim(-1.1,1.1)\n",
    "plt.legend(loc='upper center', bbox_to_anchor=(0.5, -0.1), \n",
    "           fancybox=True,ncol=np.shape(X)[1])\n",
    "plt.grid()\n",
    "plt.savefig(\"images/circle_correlation_correlation_USA.png\")\n",
    "plt.tight_layout()\n",
    "plt.show()"
   ],
   "metadata": {
    "collapsed": false,
    "pycharm": {
     "name": "#%%\n",
     "is_executing": false
    }
   }
  },
  {
   "cell_type": "markdown",
   "source": [
    "# Conclusion\n",
    "\n",
    "### Covariance Matrix \n",
    "Using the Covariance matrix $C_{X}$ to perform PCA and choose a $k = 2$ (qualitative analysis) which is the number \n",
    "of components that retains $\\sim 99\\%$ of total information embedded in the dataset, it can be found that:<br>\n",
    "$\\hspace{1cm}(\\bullet)\\hspace{0.3cm}$ PC1 is an index of number of arrests (and so crimes)<br>\n",
    "$\\hspace{1cm}(\\bullet)\\hspace{0.3cm}$ PC2 is an index about population density\n",
    "\n",
    "### Correlation Matrix \n",
    "Using the Correlation matrix $R_{X}$ to perform PCA and choose a $k = 2$ (qualitative analysis) which is the number \n",
    "of components that retains $\\sim 87\\%$ of total information embedded in the dataset, it can be found that:<br>\n",
    "$\\hspace{1cm}(\\bullet)\\hspace{0.3cm}$ PC1 is an index of number of arrests (and so crimes)\n",
    "\n"
   ],
   "metadata": {
    "collapsed": false,
    "pycharm": {
     "name": "#%% md\n"
    }
   }
  }
 ],
 "metadata": {
  "kernelspec": {
   "display_name": "Python 3",
   "language": "python",
   "name": "python3"
  },
  "language_info": {
   "codemirror_mode": {
    "name": "ipython",
    "version": 2
   },
   "file_extension": ".py",
   "mimetype": "text/x-python",
   "name": "python",
   "nbconvert_exporter": "python",
   "pygments_lexer": "ipython2",
   "version": "2.7.6"
  },
  "pycharm": {
   "stem_cell": {
    "cell_type": "raw",
    "source": [],
    "metadata": {
     "collapsed": false
    }
   }
  }
 },
 "nbformat": 4,
 "nbformat_minor": 0
}